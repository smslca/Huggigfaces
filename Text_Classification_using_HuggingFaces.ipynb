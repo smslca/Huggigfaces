{
  "nbformat": 4,
  "nbformat_minor": 0,
  "metadata": {
    "colab": {
      "provenance": [],
      "gpuType": "T4",
      "authorship_tag": "ABX9TyO/1qQ0nYsXg9qpV+XsR8s3",
      "include_colab_link": true
    },
    "kernelspec": {
      "name": "python3",
      "display_name": "Python 3"
    },
    "language_info": {
      "name": "python"
    },
    "accelerator": "GPU"
  },
  "cells": [
    {
      "cell_type": "markdown",
      "metadata": {
        "id": "view-in-github",
        "colab_type": "text"
      },
      "source": [
        "<a href=\"https://colab.research.google.com/github/smslca/Huggigfaces/blob/main/Text_Classification_using_HuggingFaces.ipynb\" target=\"_parent\"><img src=\"https://colab.research.google.com/assets/colab-badge.svg\" alt=\"Open In Colab\"/></a>"
      ]
    },
    {
      "cell_type": "code",
      "execution_count": null,
      "metadata": {
        "id": "U3i-sFzjm5xC"
      },
      "outputs": [],
      "source": [
        "!pip install -U transformers datasets umap-learn"
      ]
    },
    {
      "cell_type": "code",
      "source": [
        "from datasets import load_dataset"
      ],
      "metadata": {
        "id": "czUCqlJUosIB"
      },
      "execution_count": null,
      "outputs": []
    },
    {
      "cell_type": "code",
      "source": [
        "emotions = load_dataset(\"emotion\")\n",
        "emotions"
      ],
      "metadata": {
        "id": "z6_jVqkWqsM5"
      },
      "execution_count": null,
      "outputs": []
    },
    {
      "cell_type": "code",
      "source": [
        "train_ds = emotions['train']\n",
        "train_ds"
      ],
      "metadata": {
        "id": "TAIJT49mrk85"
      },
      "execution_count": null,
      "outputs": []
    },
    {
      "cell_type": "code",
      "source": [
        "len(train_ds)"
      ],
      "metadata": {
        "id": "hG6bG87Uru0W"
      },
      "execution_count": null,
      "outputs": []
    },
    {
      "cell_type": "code",
      "source": [
        "train_ds.column_names"
      ],
      "metadata": {
        "id": "feClR_T3sLZH"
      },
      "execution_count": null,
      "outputs": []
    },
    {
      "cell_type": "code",
      "source": [
        "train_ds[0]"
      ],
      "metadata": {
        "id": "yTltR9ezsSgO"
      },
      "execution_count": null,
      "outputs": []
    },
    {
      "cell_type": "code",
      "source": [
        "print(train_ds.features)"
      ],
      "metadata": {
        "id": "kAILz9xJsXc4"
      },
      "execution_count": null,
      "outputs": []
    },
    {
      "cell_type": "code",
      "source": [
        "import pandas as pd\n",
        "emotions.set_format(\"pandas\")\n",
        "df = emotions['train'][:]\n",
        "df.head()"
      ],
      "metadata": {
        "id": "JHsvRXO2tBMP"
      },
      "execution_count": null,
      "outputs": []
    },
    {
      "cell_type": "code",
      "source": [
        "def label_int2str(row):\n",
        "  return emotions['train'].features['label'].int2str(row)\n",
        "\n",
        "df['label_str'] = df['label'].apply(label_int2str)"
      ],
      "metadata": {
        "id": "YldepddztgTh"
      },
      "execution_count": null,
      "outputs": []
    },
    {
      "cell_type": "code",
      "source": [
        "df.head()"
      ],
      "metadata": {
        "id": "YlZHlVnauLil"
      },
      "execution_count": null,
      "outputs": []
    },
    {
      "cell_type": "code",
      "source": [
        "import matplotlib.pyplot as plt\n",
        "df.label_str.value_counts(ascending=True).plot.bar()\n",
        "plt.title('Frequency of classes')\n",
        "plt.xlabel(\"emotion\")\n",
        "plt.show()"
      ],
      "metadata": {
        "id": "qJx0KVoquVYt"
      },
      "execution_count": null,
      "outputs": []
    },
    {
      "cell_type": "code",
      "source": [
        "df['Words per tweet'] = df['text'].str.split(' ').apply(len)\n",
        "df.boxplot(\"Words per tweet\",by='label_str',grid=False,showfliers=False,color='black')\n",
        "plt.suptitle(\"\")\n",
        "plt.xlabel(\"\")\n",
        "plt.show()"
      ],
      "metadata": {
        "id": "Y3tlfFCAuzUz"
      },
      "execution_count": null,
      "outputs": []
    },
    {
      "cell_type": "code",
      "source": [
        "emotions.reset_format()"
      ],
      "metadata": {
        "id": "35yzvPFTv6Qv"
      },
      "execution_count": null,
      "outputs": []
    },
    {
      "cell_type": "code",
      "source": [
        "from transformers import AutoTokenizer\n",
        "model_check_point = 'distilbert-base-uncased'\n",
        "tokenizer = AutoTokenizer.from_pretrained(model_check_point)"
      ],
      "metadata": {
        "id": "qleWwTAawRhn"
      },
      "execution_count": null,
      "outputs": []
    },
    {
      "cell_type": "code",
      "source": [
        "text = \"Tokenizing text is a core task of NLP.\"\n",
        "encoded_text = tokenizer(text)\n",
        "print(encoded_text)"
      ],
      "metadata": {
        "id": "dpLGsW1kw9it"
      },
      "execution_count": null,
      "outputs": []
    },
    {
      "cell_type": "code",
      "source": [
        "tokens = tokenizer.convert_ids_to_tokens(encoded_text.input_ids)\n",
        "print(tokens)"
      ],
      "metadata": {
        "id": "nVzQn8W9xXBo"
      },
      "execution_count": null,
      "outputs": []
    },
    {
      "cell_type": "code",
      "source": [
        "tokenizer.convert_tokens_to_string(tokens)"
      ],
      "metadata": {
        "id": "QtfEdN2tx7je"
      },
      "execution_count": null,
      "outputs": []
    },
    {
      "cell_type": "code",
      "source": [
        "tokenizer.convert_tokens_to_ids(tokens)"
      ],
      "metadata": {
        "id": "iP2C86oLyTXu"
      },
      "execution_count": null,
      "outputs": []
    },
    {
      "cell_type": "code",
      "source": [
        "print(tokenizer.vocab_size)\n",
        "print(tokenizer.model_max_length)\n",
        "print(tokenizer.model_input_names)"
      ],
      "metadata": {
        "id": "ulyd-MtWycgw"
      },
      "execution_count": null,
      "outputs": []
    },
    {
      "cell_type": "code",
      "source": [
        "def tokenize(batch):\n",
        "  return tokenizer(batch['text'],padding=True,truncation=True)"
      ],
      "metadata": {
        "id": "yxodkTaWypsr"
      },
      "execution_count": null,
      "outputs": []
    },
    {
      "cell_type": "code",
      "source": [
        "tokenize(emotions['train'][:2])"
      ],
      "metadata": {
        "id": "NFAs-FYYzY_G"
      },
      "execution_count": null,
      "outputs": []
    },
    {
      "cell_type": "code",
      "source": [
        "emotions_encoded = emotions.map(tokenize,batched=True,batch_size=None)"
      ],
      "metadata": {
        "id": "TNFH4JVHzdcp"
      },
      "execution_count": null,
      "outputs": []
    },
    {
      "cell_type": "code",
      "source": [
        "emotions_encoded['train'][0]"
      ],
      "metadata": {
        "id": "kIGz58Oo0M4S"
      },
      "execution_count": null,
      "outputs": []
    },
    {
      "cell_type": "code",
      "source": [
        "print(emotions_encoded['train'].column_names)"
      ],
      "metadata": {
        "id": "Qgsup58u0URV"
      },
      "execution_count": null,
      "outputs": []
    },
    {
      "cell_type": "code",
      "source": [
        "from transformers import AutoModel\n",
        "import torch\n",
        "model_check_point = 'distilbert-base-uncased'\n",
        "device = torch.device('cuda' if torch.cuda.is_available() else 'cpu')\n",
        "model = AutoModel.from_pretrained(model_check_point).to(device)"
      ],
      "metadata": {
        "id": "phtBM7Bo0myg"
      },
      "execution_count": null,
      "outputs": []
    },
    {
      "cell_type": "code",
      "source": [
        "\n",
        "text = \"this is a test\"\n",
        "inputs = tokenizer(text,return_tensors='pt')\n",
        "print(f\"Input tensors shape: {inputs['input_ids'].size()}\")"
      ],
      "metadata": {
        "id": "BUoFkuPq2EE4"
      },
      "execution_count": null,
      "outputs": []
    },
    {
      "cell_type": "code",
      "source": [
        "inputs"
      ],
      "metadata": {
        "id": "7b-L_eSi5U79"
      },
      "execution_count": null,
      "outputs": []
    },
    {
      "cell_type": "code",
      "source": [
        "inputs = {k:v.to(device) for k,v in inputs.items()}\n",
        "with torch.no_grad():\n",
        "  outputs = model(**inputs)\n",
        "print(outputs)"
      ],
      "metadata": {
        "id": "H0Frz-qX47tr"
      },
      "execution_count": null,
      "outputs": []
    },
    {
      "cell_type": "code",
      "source": [
        "outputs.last_hidden_state.size()"
      ],
      "metadata": {
        "id": "tD3iz1UJ55zm"
      },
      "execution_count": null,
      "outputs": []
    },
    {
      "cell_type": "code",
      "source": [
        "def extract_hidden_states(batch):\n",
        "  inputs = {k:v.to(device) for k,v in batch.items() if k in tokenizer.model_input_names}\n",
        "  with torch.no_grad():\n",
        "    last_hidden_state = model(**inputs).last_hidden_state\n",
        "  return {\"hidden_state\": last_hidden_state[:,0].cpu().numpy() }"
      ],
      "metadata": {
        "id": "B_NMRwwe6Hxk"
      },
      "execution_count": null,
      "outputs": []
    },
    {
      "cell_type": "code",
      "source": [
        "emotions_encoded.set_format(\"torch\",columns=['input_ids','attention_mask','label'])"
      ],
      "metadata": {
        "id": "J2cqBpWJ8Fcw"
      },
      "execution_count": null,
      "outputs": []
    },
    {
      "cell_type": "code",
      "source": [
        "emotions_hidden = emotions_encoded.map(extract_hidden_states,batched=True)"
      ],
      "metadata": {
        "id": "8dn-KXmf9Scj"
      },
      "execution_count": null,
      "outputs": []
    },
    {
      "cell_type": "code",
      "source": [
        "emotions_hidden"
      ],
      "metadata": {
        "id": "FTDgcyX69j5w"
      },
      "execution_count": null,
      "outputs": []
    },
    {
      "cell_type": "code",
      "source": [
        "import numpy as np\n",
        "X_train = np.array(emotions_hidden['train']['hidden_state'])\n",
        "y_train = np.array(emotions_hidden['train']['label'])\n",
        "X_valid = np.array(emotions_hidden['validation']['hidden_state'])\n",
        "y_valid = np.array(emotions_hidden['validation']['label'])\n",
        "X_test  = np.array(emotions_hidden['test']['hidden_state'])\n",
        "y_test  = np.array(emotions_hidden['test']['label'])\n",
        "X_train.shape,X_valid.shape,X_test.shape"
      ],
      "metadata": {
        "id": "6VdULfgh_TIg"
      },
      "execution_count": null,
      "outputs": []
    },
    {
      "cell_type": "code",
      "source": [
        "from sklearn.linear_model import LogisticRegression\n",
        "lr_clf = LogisticRegression(max_iter=3000)\n",
        "lr_clf.fit(X_train,y_train)\n",
        "lr_clf.score(X_valid,y_valid)"
      ],
      "metadata": {
        "id": "DTSgkWK1_yO3"
      },
      "execution_count": null,
      "outputs": []
    },
    {
      "cell_type": "code",
      "source": [
        "from sklearn.dummy import DummyClassifier\n",
        "dummy_clf = DummyClassifier(strategy='most_frequent')\n",
        "dummy_clf.fit(X_train,y_train)\n",
        "dummy_clf.score(X_valid,y_valid)"
      ],
      "metadata": {
        "id": "eOWNFNKB_ylY"
      },
      "execution_count": null,
      "outputs": []
    },
    {
      "cell_type": "code",
      "source": [
        "from sklearn.metrics import ConfusionMatrixDisplay,confusion_matrix\n",
        "def plot_confusion_matrix(y_preds,y_true,labels):\n",
        "  cm = confusion_matrix(y_true,y_preds,normalize='true')\n",
        "  fig, ax = plt.subplots(figsize=(6,6))\n",
        "  disp = ConfusionMatrixDisplay(confusion_matrix=cm,display_labels=labels)\n",
        "  disp.plot(cmap=\"Blues\",values_format=\".2f\",ax=ax,colorbar=False)\n",
        "  plt.title('Normalized Confusion Matrix')\n",
        "  plt.show()\n",
        "\n"
      ],
      "metadata": {
        "id": "YK7RpgIlB9nn"
      },
      "execution_count": null,
      "outputs": []
    },
    {
      "cell_type": "code",
      "source": [
        "labels =  emotions['train'].features['label'].names\n",
        "labels"
      ],
      "metadata": {
        "id": "6TJS5lalEpOV"
      },
      "execution_count": null,
      "outputs": []
    },
    {
      "cell_type": "code",
      "source": [
        "y_preds = lr_clf.predict(X_valid)\n",
        "plot_confusion_matrix(y_preds,y_valid,labels)"
      ],
      "metadata": {
        "id": "TvhdO6ZFEMcL"
      },
      "execution_count": null,
      "outputs": []
    },
    {
      "cell_type": "code",
      "source": [
        "from transformers import AutoModelForSequenceClassification\n",
        "import torch\n",
        "num_labels = 6\n",
        "model_check_point = 'distilbert-base-uncased'\n",
        "model = AutoModelForSequenceClassification.from_pretrained(model_check_point,num_labels=num_labels).to(device)\n"
      ],
      "metadata": {
        "id": "XdpnRBoTEXrK"
      },
      "execution_count": null,
      "outputs": []
    },
    {
      "cell_type": "code",
      "source": [
        "from sklearn.metrics import f1_score,accuracy_score\n",
        "def compute_metrics(pred):\n",
        "  labels = pred.label_ids\n",
        "  preds = pred.predictions.argmax(-1)\n",
        "  f1 = f1_score(labels,preds,average=\"weighted\")\n",
        "  acc = accuracy_score(labels,preds)\n",
        "  return {\"accuracy\":acc,\"f1\":f1}"
      ],
      "metadata": {
        "id": "qZKJb5OxXM7K"
      },
      "execution_count": null,
      "outputs": []
    },
    {
      "cell_type": "code",
      "source": [
        "from huggingface_hub import notebook_login\n",
        "notebook_login()"
      ],
      "metadata": {
        "id": "Ar4ORy1gk38U"
      },
      "execution_count": null,
      "outputs": []
    },
    {
      "cell_type": "code",
      "source": [
        "from transformers import Trainer, TrainingArguments"
      ],
      "metadata": {
        "id": "gKnl81Wrk_BL"
      },
      "execution_count": null,
      "outputs": []
    },
    {
      "cell_type": "code",
      "source": [
        "import os\n",
        "os.environ[“WANDB_DISABLED”] = “true”"
      ],
      "metadata": {
        "id": "Extlzqy2QWzz"
      },
      "execution_count": null,
      "outputs": []
    },
    {
      "cell_type": "code",
      "source": [
        "args = TrainingArguments(report_to=None)"
      ],
      "metadata": {
        "id": "pXaNuN1UQXwj"
      },
      "execution_count": null,
      "outputs": []
    },
    {
      "cell_type": "code",
      "source": [
        "batch_size = 64\n",
        "logging_steps = len(emotions_encoded['train'])//batch_size\n",
        "model_name = f'{model_check_point}-praveen-emotions-finetuned'\n",
        "training_args = TrainingArguments(output_dir=model_name,\n",
        "                                  num_train_epochs = 2,\n",
        "                                  learning_rate = 2e-5,\n",
        "                                  per_device_train_batch_size = batch_size,\n",
        "                                  per_device_eval_batch_size = batch_size,\n",
        "                                  weight_decay = 0.01,\n",
        "                                  evaluation_strategy = 'epoch',\n",
        "                                  disable_tqdm = False,\n",
        "                                  logging_steps = logging_steps,\n",
        "                                  push_to_hub = True,\n",
        "                                  log_level='error'\n",
        "                                  )"
      ],
      "metadata": {
        "id": "1SF8gbDUlWcw"
      },
      "execution_count": null,
      "outputs": []
    },
    {
      "cell_type": "code",
      "source": [
        "trainer = Trainer(model=model,args=training_args,compute_metrics=compute_metrics,train_dataset = emotions_encoded['train'],\n",
        "                  eval_dataset=emotions_encoded['validation'],tokenizer=tokenizer)\n",
        "trainer.train()"
      ],
      "metadata": {
        "id": "1jCFtLxama-A"
      },
      "execution_count": null,
      "outputs": []
    },
    {
      "cell_type": "code",
      "source": [
        "preds_output = trainer.predict(emotions_encoded['validation'])"
      ],
      "metadata": {
        "id": "V0kdbMEsm4Wf"
      },
      "execution_count": null,
      "outputs": []
    },
    {
      "cell_type": "code",
      "source": [
        "preds_output.metrics"
      ],
      "metadata": {
        "id": "xa98qCdxpszJ"
      },
      "execution_count": null,
      "outputs": []
    },
    {
      "cell_type": "code",
      "source": [
        "y_preds = np.argmax(preds_output.predictions,axis=1)"
      ],
      "metadata": {
        "id": "cfwGCfgSpwEY"
      },
      "execution_count": null,
      "outputs": []
    },
    {
      "cell_type": "code",
      "source": [
        "plot_confusion_matrix(y_preds,y_valid,labels)"
      ],
      "metadata": {
        "id": "MPjd4SpDqD7f"
      },
      "execution_count": null,
      "outputs": []
    },
    {
      "cell_type": "code",
      "source": [
        "from torch.nn.functional import cross_entropy"
      ],
      "metadata": {
        "id": "azmKj-orqKXF"
      },
      "execution_count": null,
      "outputs": []
    },
    {
      "cell_type": "code",
      "source": [
        "def forward_pass_with_label(batch):\n",
        "  inputs = {k:v.to(device) for k,v in batch.items() if k in tokenizer.model_input_names}\n",
        "  with torch.no_grad():\n",
        "    output = model(**inputs)\n",
        "    pred_label = torch.argmax(output.logits,axis=-1)\n",
        "    loss = cross_entropy(output.logits,batch['label'].to(device),reduction='none')\n",
        "  return {\"loss\": loss.cpu().numpy(),\n",
        "          \"predicted_label\":pred_label.cpu().numpy()}"
      ],
      "metadata": {
        "id": "b6ATW7rNtgL4"
      },
      "execution_count": null,
      "outputs": []
    },
    {
      "cell_type": "code",
      "source": [
        "emotions_encoded.set_format(\"torch\",columns=['input_ids','attention_mask','label'])\n",
        "emotions_encoded['validation'] = emotions_encoded['validation'].map(forward_pass_with_label,batched=True,batch_size=16)\n"
      ],
      "metadata": {
        "id": "FV1L-Cv_uffp"
      },
      "execution_count": null,
      "outputs": []
    },
    {
      "cell_type": "code",
      "source": [
        "emotions_encoded.set_format('pandas')\n",
        "cols = ['text','label','predicted_label','loss']\n",
        "df_test = emotions_encoded['validation'][:][cols]\n",
        "df_test['label'] = df_test['label'].apply(label_int2str)\n",
        "df_test['predicted_label'] = df_test['predicted_label'].apply(label_int2str)\n"
      ],
      "metadata": {
        "id": "tu29gbzzu_W0"
      },
      "execution_count": null,
      "outputs": []
    },
    {
      "cell_type": "code",
      "source": [
        "df_test.sort_values(\"loss\",ascending=False).head(10)"
      ],
      "metadata": {
        "id": "s-nbXQI-xWGT"
      },
      "execution_count": null,
      "outputs": []
    },
    {
      "cell_type": "code",
      "source": [
        "trainer.push_to_hub(commit_message=\"Training Completed!!!\")"
      ],
      "metadata": {
        "id": "nTmUp1LdxeDE"
      },
      "execution_count": null,
      "outputs": []
    },
    {
      "cell_type": "code",
      "source": [
        "from transformers import pipeline"
      ],
      "metadata": {
        "id": "zu-oqxH_xwhH"
      },
      "execution_count": null,
      "outputs": []
    },
    {
      "cell_type": "code",
      "source": [
        "model_id = 'smslca/distilbert-base-uncased-praveen-emotions-finetuned'\n",
        "classifier = pipeline('text-classification',model=model_id)\n",
        "tweet = \"I saw a horrible movie today\"\n",
        "preds = classifier(tweet,return_all_scores=True)\n"
      ],
      "metadata": {
        "id": "6hBDM4mVx6nU"
      },
      "execution_count": null,
      "outputs": []
    },
    {
      "cell_type": "code",
      "source": [
        "import pandas as pd\n",
        "preds_df = pd.DataFrame(preds[0])\n",
        "plt.bar(labels,100*preds_df['score'])\n",
        "plt.title(f'tweet')\n",
        "plt.ylabel('class probability %')\n",
        "plt.show()"
      ],
      "metadata": {
        "id": "h1jF-Gv_yixA"
      },
      "execution_count": null,
      "outputs": []
    },
    {
      "cell_type": "code",
      "source": [],
      "metadata": {
        "id": "_rMTq5-DzCcH"
      },
      "execution_count": null,
      "outputs": []
    }
  ]
}